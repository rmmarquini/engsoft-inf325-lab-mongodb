{
 "cells": [
  {
   "cell_type": "markdown",
   "metadata": {},
   "source": [
    "# Exercício 1\n"
   ]
  },
  {
   "cell_type": "markdown",
   "metadata": {},
   "source": [
    "## Objetivo\n",
    "\n",
    "Esta atividade tem o objetivo de exercitar de maneira prática o que foi aprendido pelo aluno no contexto do MongoDB.\n"
   ]
  },
  {
   "cell_type": "markdown",
   "metadata": {},
   "source": [
    "## Sobre a base de dados\n",
    "\n",
    "Neste laboratório você utilizará um dataset contendo informações sobre restaurantes. A coleção de restaurantes contém 3772 documentos. Cada documento contém informações sobre um único restaurante.\n",
    "\n",
    "Veja um exemplo de documento de um dos restaurantes e entenda a estrutura/schema:\n",
    "\n",
    "```json\n",
    "{\n",
    "  \"address\": {\n",
    "     \"building\": \"1007\",\n",
    "     \"coord\": [ -73.856077, 40.848447 ],\n",
    "     \"street\": \"Morris Park Ave\",\n",
    "     \"zipcode\": \"10462\"\n",
    "  },\n",
    "  \"borough\": \"Bronx\",\n",
    "  \"cuisine\": \"Bakery\",\n",
    "  \"grades\": [\n",
    "     { \"date\": { \"$date\": 1393804800000 }, \"grade\": \"A\", \"score\": 2 },\n",
    "     { \"date\": { \"$date\": 1378857600000 }, \"grade\": \"A\", \"score\": 6 },\n",
    "     { \"date\": { \"$date\": 1358985600000 }, \"grade\": \"A\", \"score\": 10 },\n",
    "     { \"date\": { \"$date\": 1322006400000 }, \"grade\": \"A\", \"score\": 9 },\n",
    "     { \"date\": { \"$date\": 1299715200000 }, \"grade\": \"B\", \"score\": 14 }\n",
    "  ],\n",
    "  \"name\": \"Morris Park Bake Shop\",\n",
    "  \"restaurant_id\": \"30075445\"\n",
    "}\n",
    "\n",
    "```\n",
    "\n"
   ]
  },
  {
   "cell_type": "markdown",
   "metadata": {},
   "source": [
    "# Baixando a coleção"
   ]
  },
  {
   "cell_type": "code",
   "execution_count": null,
   "metadata": {},
   "outputs": [],
   "source": [
    "!wget https://www.w3resource.com/mongodb-exercises/restaurants.zip\n",
    "!unzip -o restaurants.zip\n",
    "!rm restaurants.zip"
   ]
  },
  {
   "cell_type": "markdown",
   "metadata": {},
   "source": [
    "# Importando a coleção para o MongoDB\n",
    "Utilizaremos o ``` mongoimport ``` para importar a coleção ``` restaunts.json ```. Mais informações sobre esta ferramenta podem ser encontradas em https://docs.mongodb.com/manual/reference/program/mongoimport/#bin.mongoimport .\n",
    "\n",
    "Modifique o comando abaixo, alterando o nome do banco de dados e da coleção para nomes de sua preferência. "
   ]
  },
  {
   "cell_type": "code",
   "execution_count": null,
   "metadata": {},
   "outputs": [],
   "source": [
    "!mongoimport --db exercicio1 --collection restaurants --drop --file $(pwd)/restaurants.json"
   ]
  },
  {
   "cell_type": "markdown",
   "metadata": {},
   "source": [
    "# Opções para fazer consultas no dataset"
   ]
  },
  {
   "cell_type": "markdown",
   "metadata": {},
   "source": [
    "## Usando Python"
   ]
  },
  {
   "cell_type": "code",
   "execution_count": null,
   "metadata": {},
   "outputs": [],
   "source": [
    "from pymongo import MongoClient\n",
    "from pprintpp import pprint\n",
    "import warnings\n",
    "warnings.filterwarnings('ignore')\n",
    "mongoclient = MongoClient('localhost', 27017)\n",
    "db = mongoclient.exercicio1\n",
    "print(db)"
   ]
  },
  {
   "cell_type": "code",
   "execution_count": null,
   "metadata": {},
   "outputs": [],
   "source": [
    "db.restaurants.find({}).count()"
   ]
  },
  {
   "cell_type": "markdown",
   "metadata": {},
   "source": [
    "## Mongo Shell"
   ]
  },
  {
   "cell_type": "code",
   "execution_count": null,
   "metadata": {},
   "outputs": [],
   "source": [
    "! mongo --quiet --eval 'db.restaurants.find().count();' exercicio1"
   ]
  },
  {
   "cell_type": "markdown",
   "metadata": {},
   "source": [
    "## Mongo Shell e Python"
   ]
  },
  {
   "cell_type": "code",
   "execution_count": 1,
   "metadata": {},
   "outputs": [
    {
     "name": "stdout",
     "output_type": "stream",
     "text": [
      "3772\n"
     ]
    }
   ],
   "source": [
    "documento_busca = {\n",
    "    \n",
    "}\n",
    "\n",
    "! mongo --quiet --eval \"db.restaurants.find().count();\" exercicio1"
   ]
  },
  {
   "cell_type": "markdown",
   "metadata": {},
   "source": [
    "## Questões Exemplo"
   ]
  },
  {
   "cell_type": "markdown",
   "metadata": {},
   "source": [
    "### [Questão Exemplo A]  Mostre um documento qualquer da coleção restaurants"
   ]
  },
  {
   "cell_type": "code",
   "execution_count": null,
   "metadata": {},
   "outputs": [],
   "source": [
    "result = db.restaurants.find({}).limit(1)\n",
    "\n",
    "pprint( list(result) )"
   ]
  },
  {
   "cell_type": "markdown",
   "metadata": {},
   "source": [
    "### [Questão Exemplo B]  Encontre o documento referente ao restaurante de nome \"Kosher Island\""
   ]
  },
  {
   "cell_type": "code",
   "execution_count": null,
   "metadata": {},
   "outputs": [],
   "source": [
    "result = db.restaurants.find({\"name\": \"Kosher Island\"})\n",
    "\n",
    "pprint( list(result) )"
   ]
  },
  {
   "cell_type": "markdown",
   "metadata": {},
   "source": [
    "## Questões a serem resolvidas"
   ]
  },
  {
   "cell_type": "markdown",
   "metadata": {},
   "source": [
    "### [Questão 1] Mostre o nome de todos os restaurantes sem repetir. Separadamente, mostre também todos os tipos distintos de cozinhas."
   ]
  },
  {
   "cell_type": "code",
   "execution_count": null,
   "metadata": {},
   "outputs": [],
   "source": []
  },
  {
   "cell_type": "code",
   "execution_count": null,
   "metadata": {},
   "outputs": [],
   "source": []
  },
  {
   "cell_type": "markdown",
   "metadata": {},
   "source": [
    "### [Questão 2] Mostre o nome e o tipo de cozinha de 5 restaurantes quaisquer sem exibir o campo \"_id\""
   ]
  },
  {
   "cell_type": "code",
   "execution_count": null,
   "metadata": {},
   "outputs": [],
   "source": []
  },
  {
   "cell_type": "markdown",
   "metadata": {},
   "source": [
    "### [Questão 3] Mostre 5 restaurantes no bairro \"Bronx\""
   ]
  },
  {
   "cell_type": "code",
   "execution_count": null,
   "metadata": {},
   "outputs": [],
   "source": []
  },
  {
   "cell_type": "markdown",
   "metadata": {},
   "source": [
    "### [Questão 4] Altere o tipo de cozinha do restaurante \"Kosher Island\" para \"Sea food\""
   ]
  },
  {
   "cell_type": "code",
   "execution_count": null,
   "metadata": {},
   "outputs": [],
   "source": []
  },
  {
   "cell_type": "markdown",
   "metadata": {},
   "source": [
    "### [Questão 5] Mostre e remova o(s) restaurante(s) com zipcode \"10314\""
   ]
  },
  {
   "cell_type": "code",
   "execution_count": null,
   "metadata": {},
   "outputs": [],
   "source": []
  },
  {
   "cell_type": "code",
   "execution_count": null,
   "metadata": {},
   "outputs": [],
   "source": []
  },
  {
   "cell_type": "markdown",
   "metadata": {},
   "source": [
    "### [Questão 6] Adicione um campo status ao restaurante cujo nome é \"Riviera Caterer\". Status=\"demolido\"."
   ]
  },
  {
   "cell_type": "code",
   "execution_count": null,
   "metadata": {},
   "outputs": [],
   "source": []
  },
  {
   "cell_type": "markdown",
   "metadata": {},
   "source": [
    "### [Questão Extra] Adicione um restaurante seguindo a estrutura de documentos da coleção"
   ]
  },
  {
   "cell_type": "code",
   "execution_count": null,
   "metadata": {},
   "outputs": [],
   "source": []
  },
  {
   "cell_type": "markdown",
   "metadata": {},
   "source": [
    "### [Questão Extra] Adicione um campo cidade do restaurante criado anteriormente para \"Ilheus\""
   ]
  },
  {
   "cell_type": "code",
   "execution_count": null,
   "metadata": {},
   "outputs": [],
   "source": []
  },
  {
   "cell_type": "markdown",
   "metadata": {},
   "source": [
    "### [Questão Extra] Mostre o nome de todos os restaurantes que receberam pelo menos uma avaliação A"
   ]
  }
 ],
 "metadata": {
  "kernelspec": {
   "display_name": "Python 3",
   "language": "python",
   "name": "python3"
  },
  "language_info": {
   "codemirror_mode": {
    "name": "ipython",
    "version": 3
   },
   "file_extension": ".py",
   "mimetype": "text/x-python",
   "name": "python",
   "nbconvert_exporter": "python",
   "pygments_lexer": "ipython3",
   "version": "3.7.6"
  }
 },
 "nbformat": 4,
 "nbformat_minor": 4
}
